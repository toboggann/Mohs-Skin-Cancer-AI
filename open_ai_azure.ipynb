{
 "cells": [
  {
   "cell_type": "code",
   "execution_count": 1,
   "id": "7f3b8204-0fbf-402b-ba48-f687da3fd77d",
   "metadata": {
    "tags": []
   },
   "outputs": [],
   "source": [
    "import os\n",
    "import pandas as pd\n",
    "import requests\n",
    "import base64\n",
    "\n",
    "#using azure\n",
    "API_KEY = \"2DWhd5NlWo6U8lpUBSWgyCuCL1bgNUAlQyv4sF2Oq6TsNxszq97NJQQJ99AKACHrzpqXJ3w3AAABACOGzNKu\"\n",
    "ENDPOINT = \"https://rg-01-hippa-standalone-openai.openai.azure.com/openai/deployments/gpt-4o/chat/completions?api-version=2024-02-15-preview\"\n",
    "\n",
    "def call_gpt(query):\n",
    "    headers = {\n",
    "        \"Content-Type\": \"application/json\",\n",
    "        \"api-key\": API_KEY,\n",
    "    }\n",
    "    \n",
    "    # Payload for the request\n",
    "    payload = {\n",
    "    \"messages\" : [\n",
    "            {\"role\": \"system\", \"content\": \"Answer the question based only on the following context, which can include text and tables: \"},\n",
    "            {\"role\": \"user\", \"content\": f\"{query}\"},\n",
    "        ],\n",
    "      \"temperature\": 0.7,\n",
    "      \"top_p\": 0.95,\n",
    "      \"max_tokens\": 800\n",
    "    }\n",
    "    \n",
    "    \n",
    "    # Send request\n",
    "    try:\n",
    "        response = requests.post(ENDPOINT, headers=headers, json=payload)\n",
    "        response.raise_for_status()  # Will raise an HTTPError if the HTTP request returned an unsuccessful status code\n",
    "    except requests.RequestException as e:\n",
    "        raise SystemExit(f\"Failed to make the request. Error: {e}\")\n",
    "\n",
    "    # Handle the response as needed (e.g., print or process)\n",
    "    #print(response.json())\n",
    "    #return response.json().choices[0].message.content\n",
    "    return response.json()[\"choices\"][0][\"message\"][\"content\"]\n",
    "\n",
    "\n",
    "\n",
    "\n",
    "\n"
   ]
  },
  {
   "cell_type": "code",
   "execution_count": 2,
   "id": "b1175a2a-1612-4ba5-a83a-e3ca8c713e8d",
   "metadata": {
    "tags": []
   },
   "outputs": [
    {
     "data": {
      "text/html": [
       "<div>\n",
       "<style scoped>\n",
       "    .dataframe tbody tr th:only-of-type {\n",
       "        vertical-align: middle;\n",
       "    }\n",
       "\n",
       "    .dataframe tbody tr th {\n",
       "        vertical-align: top;\n",
       "    }\n",
       "\n",
       "    .dataframe thead th {\n",
       "        text-align: right;\n",
       "    }\n",
       "</style>\n",
       "<table border=\"1\" class=\"dataframe\">\n",
       "  <thead>\n",
       "    <tr style=\"text-align: right;\">\n",
       "      <th></th>\n",
       "      <th>Randomized Study Number</th>\n",
       "      <th>Size at Greatest Dimension (S) ***Be  sure this is from the note and not the Mohs episode!</th>\n",
       "      <th>Physical Exam (PE)</th>\n",
       "      <th>Assessment &amp; Plan (A&amp;P)</th>\n",
       "      <th>Addendum (A)</th>\n",
       "    </tr>\n",
       "  </thead>\n",
       "  <tbody>\n",
       "    <tr>\n",
       "      <th>0</th>\n",
       "      <td>36</td>\n",
       "      <td>0.8</td>\n",
       "      <td>Physical exam:\\nGeneral: Well developed, well ...</td>\n",
       "      <td>1. Chronic actinic damage in the setting of hi...</td>\n",
       "      <td>Addendum 7/11/2023\\n \\nThe pathology results w...</td>\n",
       "    </tr>\n",
       "    <tr>\n",
       "      <th>1</th>\n",
       "      <td>240</td>\n",
       "      <td>0.6</td>\n",
       "      <td>Physical exam:\\nGeneral: Well-dressed; well-no...</td>\n",
       "      <td>Procedure Orders\\nBiopsy [486623795] ordered b...</td>\n",
       "      <td>Addendum 7/11/2023\\nThe pathology results were...</td>\n",
       "    </tr>\n",
       "    <tr>\n",
       "      <th>2</th>\n",
       "      <td>32</td>\n",
       "      <td>0.3</td>\n",
       "      <td>Physical exam:\\nGeneral: Well-dressed; well-no...</td>\n",
       "      <td>Assessment &amp; Plan: \\n1. Brown papule on the le...</td>\n",
       "      <td>Addendum 7/13/2023\\n \\nThe pathology results w...</td>\n",
       "    </tr>\n",
       "    <tr>\n",
       "      <th>3</th>\n",
       "      <td>111</td>\n",
       "      <td>6.5</td>\n",
       "      <td>Physical exam:\\nVital signs: There were no vit...</td>\n",
       "      <td>Assessment &amp; Plan: \\nBiopsy-proven basal cell ...</td>\n",
       "      <td>NaN</td>\n",
       "    </tr>\n",
       "    <tr>\n",
       "      <th>4</th>\n",
       "      <td>197</td>\n",
       "      <td>3.5</td>\n",
       "      <td>Physical exam:\\nGeneral: Well developed, well ...</td>\n",
       "      <td>Assessment &amp; Plan:  \\n1. Chronic actinic sun d...</td>\n",
       "      <td>Addendum 7/5/2023\\n \\nThe pathology results we...</td>\n",
       "    </tr>\n",
       "  </tbody>\n",
       "</table>\n",
       "</div>"
      ],
      "text/plain": [
       "   Randomized Study Number  \\\n",
       "0                       36   \n",
       "1                      240   \n",
       "2                       32   \n",
       "3                      111   \n",
       "4                      197   \n",
       "\n",
       "  Size at Greatest Dimension (S) ***Be  sure this is from the note and not the Mohs episode!  \\\n",
       "0                                                0.8                                           \n",
       "1                                                0.6                                           \n",
       "2                                                0.3                                           \n",
       "3                                                6.5                                           \n",
       "4                                                3.5                                           \n",
       "\n",
       "                                  Physical Exam (PE)  \\\n",
       "0  Physical exam:\\nGeneral: Well developed, well ...   \n",
       "1  Physical exam:\\nGeneral: Well-dressed; well-no...   \n",
       "2  Physical exam:\\nGeneral: Well-dressed; well-no...   \n",
       "3  Physical exam:\\nVital signs: There were no vit...   \n",
       "4  Physical exam:\\nGeneral: Well developed, well ...   \n",
       "\n",
       "                             Assessment & Plan (A&P)  \\\n",
       "0  1. Chronic actinic damage in the setting of hi...   \n",
       "1  Procedure Orders\\nBiopsy [486623795] ordered b...   \n",
       "2  Assessment & Plan: \\n1. Brown papule on the le...   \n",
       "3  Assessment & Plan: \\nBiopsy-proven basal cell ...   \n",
       "4  Assessment & Plan:  \\n1. Chronic actinic sun d...   \n",
       "\n",
       "                                        Addendum (A)  \n",
       "0  Addendum 7/11/2023\\n \\nThe pathology results w...  \n",
       "1  Addendum 7/11/2023\\nThe pathology results were...  \n",
       "2  Addendum 7/13/2023\\n \\nThe pathology results w...  \n",
       "3                                                NaN  \n",
       "4  Addendum 7/5/2023\\n \\nThe pathology results we...  "
      ]
     },
     "execution_count": 2,
     "metadata": {},
     "output_type": "execute_result"
    }
   ],
   "source": [
    "# read in full PE notes\n",
    "import pandas as pd\n",
    "Cat = pd.read_excel(r'tumor_size_all.xlsx',sheet_name='Sheet1',header=0)\n",
    "Cat.head()"
   ]
  },
  {
   "cell_type": "code",
   "execution_count": 3,
   "id": "bfc034ec-0c7c-4479-a9a2-c3f46b726386",
   "metadata": {
    "tags": []
   },
   "outputs": [
    {
     "name": "stdout",
     "output_type": "stream",
     "text": [
      "294\n"
     ]
    }
   ],
   "source": [
    "print(len(Cat))"
   ]
  },
  {
   "cell_type": "code",
   "execution_count": 10,
   "id": "62e597cf-6111-4165-b25d-92420388bc13",
   "metadata": {
    "scrolled": true,
    "tags": []
   },
   "outputs": [
    {
     "name": "stdout",
     "output_type": "stream",
     "text": [
      "[0.8 x 0.8, 0.4 x 0.5] cm\n"
     ]
    }
   ],
   "source": [
    "# Reads only: Physical Exam\n",
    "# Gets an array of tumor sizes for each patient and stores them in an array for the below code segment to sort through\n",
    "\n",
    "#sampleSize = len(Cat) # Change number to increase or decrease number of patients read from file\n",
    "sampleSize = 1\n",
    "\n",
    "trueResults = [0 for i in range(sampleSize)]\n",
    "trueResults_final = [0 for i in range(sampleSize)]\n",
    "\n",
    "output = [0 for i in range(sampleSize)]\n",
    "output_final = [0 for i in range(sampleSize)]\n",
    "for i in range(0, min((sampleSize ), len(Cat))):\n",
    "    results = Cat.at[i, 'Physical Exam (PE)']\n",
    "    trueResults[i-1] = Cat.at[i, 'Size at Greatest Dimension (S) ***Be  sure this is from the note and not the Mohs episode!']\n",
    "    que = \"Question: what are the tumor sizes? answer in only an array of the numbers, followed by the units\"\n",
    "    prompt = f\"{results} \\n {que}\"\n",
    "    ans = call_gpt(prompt)\n",
    "    print(ans)\n"
   ]
  },
  {
   "cell_type": "code",
   "execution_count": 11,
   "id": "5ffeab9d-eda6-40f6-aa58-607bb3d7f6de",
   "metadata": {},
   "outputs": [
    {
     "name": "stdout",
     "output_type": "stream",
     "text": [
      "Physical exam:\n",
      "General: Well developed, well nourished. No acute distress.\n",
      "Neuro: Alert and oriented to environment\n",
      "Psych: pleasant affect\n",
      "Total skin excluding undergarment areas, which includes the head/face, neck, left and right arms, chest, back, abdomen, left and right legs, digits and/or nails, was examined\n",
      "-There is/are hyperkeratotic erythematous macule(s) with overlying adherent scale involving the right helix, right cheek, right alar crease, and left cheek\n",
      "-There is a 0.8 x 0.8 cm pearly pink papule with arborizing fines telangiectasias on the right superior temple at site of prior surgery.\n",
      "-There is a 0.4 x 0.5 cm pearly pink papule with arborizing fines telangiectasias on the right inferior temple at site of prior surgery.\n",
      "-There is/are well-healed surgical scar(s) without nodularity, erythema, or telangiectasia at sites of previous skin cancer surgeries\n",
      "-There are eroded erythematous papules and plaques in a dermatomal distribution on the right lower back/abdomen\n",
      "-No other skin lesions of concern in the areas examined.\n",
      "\n"
     ]
    }
   ],
   "source": [
    "print(results)"
   ]
  },
  {
   "cell_type": "code",
   "execution_count": 12,
   "id": "821de0ed-376d-4afa-af11-545c37fa4195",
   "metadata": {
    "scrolled": true
   },
   "outputs": [
    {
     "name": "stdout",
     "output_type": "stream",
     "text": [
      "0.8 x 0.8 cm, 0.4 x 0.5 cm\n"
     ]
    }
   ],
   "source": [
    "# Reads only: Physical Exam\n",
    "# Gets an array of tumor sizes for each patient and stores them in an array for the below code segment to sort through\n",
    "\n",
    "#sampleSize = len(Cat) # Change number to increase or decrease number of patients read from file\n",
    "sampleSize = 1\n",
    "\n",
    "trueResults = [0 for i in range(sampleSize)]\n",
    "trueResults_final = [0 for i in range(sampleSize)]\n",
    "\n",
    "output = [0 for i in range(sampleSize)]\n",
    "output_final = [0 for i in range(sampleSize)]\n",
    "for i in range(0, sampleSize):\n",
    "    results = Cat.loc[i, ['Physical Exam (PE)', 'Assessment & Plan (A&P)', 'Addendum (A)']]\n",
    "    trueResults[i-1] = Cat.at[i, 'Size at Greatest Dimension (S) ***Be  sure this is from the note and not the Mohs episode!']\n",
    "    que = \"Question: what are the tumor sizes? answer in only an array of the numbers, followed by the units\"\n",
    "    prompt = f\"{results[0]+results[1]+results[2]} \\n {que}\"\n",
    "    ans = call_gpt(prompt)\n",
    "    print(ans)"
   ]
  },
  {
   "cell_type": "code",
   "execution_count": 4,
   "id": "9f1b60fb-0db2-486a-8d29-12473e94c450",
   "metadata": {},
   "outputs": [],
   "source": [
    "results = Cat.loc[47, ['Physical Exam (PE)', 'Assessment & Plan (A&P)', 'Addendum (A)']]"
   ]
  },
  {
   "cell_type": "code",
   "execution_count": 5,
   "id": "eae45e4b-58af-46f4-84b1-a899a4af8d87",
   "metadata": {
    "scrolled": true
   },
   "outputs": [
    {
     "name": "stdout",
     "output_type": "stream",
     "text": [
      "Physical exam:\n",
      "General: Well-dressed; well-nourished.\n",
      "Psych: Pleasant affect.\n",
      "Neuro: Alert and oriented to person.\n",
      "Skin: Full skin, which includes the head/face, neck, left and right arms, chest, back, abdomen, left and right legs, genitalia and/or groin and/or buttocks, digits and/or nails, was examined\n",
      "-Well-circumscribed (1.0cm x 1.3cm) nodule with overlying hemorrhagic crusting on the left pre-tibial leg\n",
      "- There is a erythematous macule with overlying adherent scale on the right cheek\n",
      "- There is a well-circumscribed waxy brown hyperkeratotic plaque on the left superior chest.\n",
      "- There are no other skin lesions of concern in the areas examined.\n",
      "\n",
      "Assessment & Plan: \n",
      "1. Neoplasm of uncertain behavior \n",
      "- Undiagnosed new problem with uncertain prognosis.\n",
      "- A) Left pre-tibial leg; Differential diagnosis keratoacanthoma vs. Squamous cell carcinoma vs. Other \n",
      "- Photo obtained\n",
      "- Biopsy today as below\n",
      " \n",
      "2. Chronic actinic skin damage and actinic keratoses (x 1, on the right cheek),\n",
      "- Chronic problem that is exacerbated with evidence of actinic keratoses on exam today.\n",
      "- Recommend periodic self skin exams and report of any new or changing lesions. \n",
      "- Recommend broad spectrum sunscreens (SPF #30 or greater) and protective clothing.\n",
      "- Discussed precancerous nature of actinic keratoses and treated with cryotherapy x 1 today as below.\n",
      " \n",
      "3.  Seborrheic keratosis, left superior chest\n",
      "–Benign minor problem\n",
      "– Discussed that there is no concerning clinical findings.\n",
      "– Recommended regular skin exams, contact office if any new or changing lesions.\n",
      " \n",
      "Follow up 1 year or sooner if needed. \n",
      " \n",
      "Post-procedural wound care instructions were provided, if indicated, as a handout in the After Visit Summary.\n",
      "The patient left the Dermatology clinic in good condition.\n",
      " \n",
      "Alison E Seline, MD staffed the patient and was physically present for the key portions of the above major procedure(s).\n",
      " \n",
      "AK destruction\n",
      "Number of lesions: 1 (Right cheek)\n",
      " \n",
      "Additional Procedure Detail:\n",
      "The above described lesion was treated with liquid nitrogen cryotherapy for two approximately 10-15 second freeze/thaw cycles.  Post-cryotherapy wound care instructions were discussed.\n",
      " \n",
      " \n",
      "Biopsy\n",
      " \n",
      "Shave Biopsy\n",
      "Number of biopsies: 1 (left pre-tibial leg)\n",
      "After the risks and benefits were discussed with the patient, all questions were addressed and informed consent was signed. 1% lidocaine with 1:100,000 epinephrine was injected to obtain adequate anesthesia of the lesion(s). Shave biopsies were performed. Hemostasis was achieved with aluminum chloride. White petroleum jelly/Vaseline and a bandage were applied to the wounds.\n",
      " \n",
      "\n",
      "Addendum 8/11/2023\n",
      "The pathology results were relayed via phone call (see below). The patient is healing well without redness or discharge. \n",
      " \n",
      "Patient was instructed to continue management as planned and call the clinic for any further questions or concerns.\n",
      " \n",
      "Discussed treatment options including Mohs surgery versus curettage and electrofulguration versus clinical monitoring.\n",
      "At this time, patient elects for Mohs surgery. Advised Mohs surgery due to location where tissue conservation is critical. Discussed risks (including but not limited to infection, bleeding, scar formation) and benefits as well as repair options that are often uncertain until the lesion has been excised, discussed that the surgical defect may be larger than the clinically evident lesion.  Reviewed the Mohs surgery process and advised to reserve the entire day for the procedure.  Advised to continue all medications. Preoperative antibiotics are not indicated.  Phone Mohs completed and submitted for scheduling.\n",
      " \n",
      "Pathology: \n",
      "Results for orders placed or performed in visit on 08/07/23\n",
      "DERMATOPATHOLOGY EXAM\n",
      "Result\tValue\tRef Range\n",
      " \tCase Report\t \t \n",
      " \t \tSurgical Pathology                                                   \n",
      "Authorizing Provider:  Anderson, Elizabeth J, MD     \n",
      "Ordering Location:     Dermatology Clinic        \n",
      "Pathologist:           Stone, Mary S, MD                                                          \n",
      "Specimen:    Skin shave, left pretibial leg                                                       \n",
      " \n",
      " \tDiagnosis\t \t \n",
      " \t \tSkin, left pretibial leg, shave:\n",
      "            Features consistent with regressing keratoacanthoma. \n",
      " \n",
      "I have personally reviewed this case and edited the report as necessary.\n",
      " \n",
      " \tClinical Information\t \t \n",
      " \t \tspot since early July \n",
      " \n",
      "Well demarcated plaque with hemorrhagic crusting \n",
      "- differential diagnosis; Keratoacanthoma vs. Squamous cell carcinoma vs. Other\n",
      " \tGross Description\t \t \n",
      " \t \tSpecimen A\n",
      "Received in formalin, in a container labeled \"left pretibial leg\", is a white-tan skin shave biopsy measuring 1.5 x 1.2 x 0.4 cm in greatest dimension.  A brown pigmented lesion is located at the center and is extending to the periphery of the specimen.  The resection margin is inked blue.  The specimen is serially sectioned and is submitted entirely in A1. \n",
      "APP/tkr\n",
      " \n",
      " \tMicroscopic Description\t \t \n",
      " \t \tSections show an asymmetric atypical crateriform lesion that demonstrates a central keratin plug and underlying irregular  acanthosis, scar and chronic inflammation. Margins are involved.\n",
      " \n",
      "Performed by: Tanner Simonson, MD, R2.\n",
      "\n",
      "\n",
      "\n"
     ]
    }
   ],
   "source": [
    "print(results[0]+results[1]+results[2])"
   ]
  },
  {
   "cell_type": "code",
   "execution_count": 6,
   "id": "ff86f683-26c9-4e38-a776-7302c450859e",
   "metadata": {},
   "outputs": [
    {
     "name": "stdout",
     "output_type": "stream",
     "text": [
      "1.0, 1.3, cm\n"
     ]
    }
   ],
   "source": [
    "que = \"Question: what are the tumor sizes? answer in only an array of the numbers, followed by the units\"\n",
    "prompt = f\"{results[0]+results[1]+results[2]} \\n {que}\"\n",
    "ans = call_gpt(prompt)\n",
    "print(ans)"
   ]
  },
  {
   "cell_type": "code",
   "execution_count": null,
   "id": "7011bb17-a93b-4cb8-b7b6-77641c3d4952",
   "metadata": {},
   "outputs": [],
   "source": []
  },
  {
   "cell_type": "code",
   "execution_count": null,
   "id": "335205a0-b579-438c-888d-1d5b467ec4f8",
   "metadata": {},
   "outputs": [],
   "source": []
  },
  {
   "cell_type": "code",
   "execution_count": null,
   "id": "cbedad76-4e45-440a-9424-05df21d2d8df",
   "metadata": {},
   "outputs": [],
   "source": []
  },
  {
   "cell_type": "code",
   "execution_count": 18,
   "id": "f032bd51-da51-4cb0-a2d7-e8da0f71854f",
   "metadata": {},
   "outputs": [
    {
     "name": "stdout",
     "output_type": "stream",
     "text": [
      "Physical Exam (PE)         Physical exam:\\nGeneral: Well developed, well ...\n",
      "Assessment & Plan (A&P)    1. Chronic actinic damage in the setting of hi...\n",
      "Addendum (A)               Addendum 7/11/2023\\n \\nThe pathology results w...\n",
      "Name: 0, dtype: object\n"
     ]
    }
   ],
   "source": [
    "print(results)"
   ]
  },
  {
   "cell_type": "code",
   "execution_count": 20,
   "id": "99a3d03b-5b7f-4d9b-b149-0d0cddf74adb",
   "metadata": {},
   "outputs": [
    {
     "name": "stdout",
     "output_type": "stream",
     "text": [
      "[0.8, 0.8, 0.4, 0.5] cm\n"
     ]
    }
   ],
   "source": [
    "que = \"Question: what are the tumor sizes? answer in only an array of the numbers, followed by the units\"\n",
    "prompt = f\"{results[0]} \\n {que}\"\n",
    "ans = call_gpt(prompt)\n",
    "print(ans)"
   ]
  },
  {
   "cell_type": "code",
   "execution_count": 21,
   "id": "1e23ba88-0a5a-405e-a32e-52a1e2ea9ca2",
   "metadata": {},
   "outputs": [
    {
     "name": "stdout",
     "output_type": "stream",
     "text": [
      "The document does not provide specific measurements for the tumor sizes.\n"
     ]
    }
   ],
   "source": [
    "que = \"Question: what are the tumor sizes? answer in only an array of the numbers, followed by the units\"\n",
    "prompt = f\"{results[1]} \\n {que}\"\n",
    "ans = call_gpt(prompt)\n",
    "print(ans)"
   ]
  },
  {
   "cell_type": "code",
   "execution_count": 22,
   "id": "f894ae81-f615-49f8-bd0e-974642920924",
   "metadata": {},
   "outputs": [
    {
     "name": "stdout",
     "output_type": "stream",
     "text": [
      "0.8 x 0.8 cm, 0.4 x 0.5 cm\n"
     ]
    }
   ],
   "source": [
    "que = \"Question: what are the tumor sizes? answer in only an array of the numbers, followed by the units\"\n",
    "prompt = f\"{results[2]} \\n {que}\"\n",
    "ans = call_gpt(prompt)\n",
    "print(ans)"
   ]
  },
  {
   "cell_type": "code",
   "execution_count": null,
   "id": "a3f61b01-7856-4a82-bc97-8a0b403f8186",
   "metadata": {},
   "outputs": [],
   "source": []
  },
  {
   "cell_type": "code",
   "execution_count": null,
   "id": "d95d1b2f-f629-451e-8274-51964bc9dc2f",
   "metadata": {},
   "outputs": [],
   "source": []
  }
 ],
 "metadata": {
  "kernelspec": {
   "display_name": "IDAS Python 3.10",
   "language": "python",
   "name": "python3"
  },
  "language_info": {
   "codemirror_mode": {
    "name": "ipython",
    "version": 3
   },
   "file_extension": ".py",
   "mimetype": "text/x-python",
   "name": "python",
   "nbconvert_exporter": "python",
   "pygments_lexer": "ipython3",
   "version": "3.10.8"
  }
 },
 "nbformat": 4,
 "nbformat_minor": 5
}
